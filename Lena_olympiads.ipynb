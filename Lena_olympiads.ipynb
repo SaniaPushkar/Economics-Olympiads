{
 "cells": [
  {
   "cell_type": "markdown",
   "metadata": {},
   "source": [
    "# packages"
   ]
  },
  {
   "cell_type": "code",
   "execution_count": 8,
   "metadata": {
    "ExecuteTime": {
     "end_time": "2021-06-25T11:09:14.655874Z",
     "start_time": "2021-06-25T11:09:14.651023Z"
    }
   },
   "outputs": [],
   "source": [
    "import pdftables_api\n",
    "import pandas as pd\n",
    "import numpy as np\n",
    "import matplotlib.pyplot as plt\n",
    "import seaborn as sns"
   ]
  },
  {
   "cell_type": "markdown",
   "metadata": {},
   "source": [
    "# data import"
   ]
  },
  {
   "cell_type": "markdown",
   "metadata": {},
   "source": [
    "## 9th grade 2021"
   ]
  },
  {
   "cell_type": "markdown",
   "metadata": {},
   "source": [
    "### Sheet 0"
   ]
  },
  {
   "cell_type": "code",
   "execution_count": 9,
   "metadata": {
    "ExecuteTime": {
     "end_time": "2021-06-25T11:09:15.385237Z",
     "start_time": "2021-06-25T11:09:15.380810Z"
    }
   },
   "outputs": [],
   "source": [
    "# make sure you're data file is in the folder where this ipynb is"
   ]
  },
  {
   "cell_type": "code",
   "execution_count": 10,
   "metadata": {
    "ExecuteTime": {
     "end_time": "2021-06-25T11:09:15.605217Z",
     "start_time": "2021-06-25T11:09:15.599737Z"
    }
   },
   "outputs": [],
   "source": [
    "# c = pdftables_api.Client('kfe5xozhpzrh')\n",
    "# c.xlsx('Protokol_EHkonomika.pdf', 'output_Lena.xlsx')"
   ]
  },
  {
   "cell_type": "code",
   "execution_count": 11,
   "metadata": {
    "ExecuteTime": {
     "end_time": "2021-06-25T11:09:16.034519Z",
     "start_time": "2021-06-25T11:09:15.902286Z"
    }
   },
   "outputs": [],
   "source": [
    "\n",
    "df_0 = pd.read_excel('output_Lena.xlsx',\n",
    "                   sheet_name = 0,\n",
    "                   index_col = None,\n",
    "                   skiprows = [0,1,2,3,4],\n",
    "                   usecols = [1,2,3,4,6],\n",
    "                   names = ['Name', 'Region', 'School_Name', 'Grade', 'Award'],\n",
    "                   skipfooter = 1\n",
    "                   )"
   ]
  },
  {
   "cell_type": "code",
   "execution_count": null,
   "metadata": {
    "ExecuteTime": {
     "end_time": "2021-06-23T12:42:09.655046Z",
     "start_time": "2021-06-23T12:42:09.645370Z"
    }
   },
   "outputs": [],
   "source": []
  },
  {
   "cell_type": "code",
   "execution_count": 12,
   "metadata": {
    "ExecuteTime": {
     "end_time": "2021-06-25T11:09:16.892109Z",
     "start_time": "2021-06-25T11:09:16.883770Z"
    }
   },
   "outputs": [],
   "source": [
    "df_0.at[1, 'School_Name'] = df_0['School_Name'][2] +str(' ') +df_0['School_Name'][3] +str(' ') +df_0['School_Name'][4] +str(' ')  + df_0['School_Name'][5]"
   ]
  },
  {
   "cell_type": "code",
   "execution_count": 13,
   "metadata": {
    "ExecuteTime": {
     "end_time": "2021-06-25T11:09:17.060874Z",
     "start_time": "2021-06-25T11:09:17.056026Z"
    }
   },
   "outputs": [],
   "source": [
    "df_0 = df_0.drop([2,3,4,5])"
   ]
  },
  {
   "cell_type": "code",
   "execution_count": 14,
   "metadata": {
    "ExecuteTime": {
     "end_time": "2021-06-25T11:09:17.228622Z",
     "start_time": "2021-06-25T11:09:17.222133Z"
    }
   },
   "outputs": [],
   "source": [
    "df_0 = df_0.astype({\"Grade\": int})"
   ]
  },
  {
   "cell_type": "code",
   "execution_count": 15,
   "metadata": {
    "ExecuteTime": {
     "end_time": "2021-06-25T11:09:17.697915Z",
     "start_time": "2021-06-25T11:09:17.692297Z"
    }
   },
   "outputs": [],
   "source": [
    "df_0['Score'] = df_0['Award'].astype(str).str[0:2]\n",
    "df_0['Award'] = df_0['Award'].astype(str).str[3:]"
   ]
  },
  {
   "cell_type": "code",
   "execution_count": 16,
   "metadata": {
    "ExecuteTime": {
     "end_time": "2021-06-25T11:09:17.907197Z",
     "start_time": "2021-06-25T11:09:17.882871Z"
    }
   },
   "outputs": [
    {
     "data": {
      "text/html": [
       "<div>\n",
       "<style scoped>\n",
       "    .dataframe tbody tr th:only-of-type {\n",
       "        vertical-align: middle;\n",
       "    }\n",
       "\n",
       "    .dataframe tbody tr th {\n",
       "        vertical-align: top;\n",
       "    }\n",
       "\n",
       "    .dataframe thead th {\n",
       "        text-align: right;\n",
       "    }\n",
       "</style>\n",
       "<table border=\"1\" class=\"dataframe\">\n",
       "  <thead>\n",
       "    <tr style=\"text-align: right;\">\n",
       "      <th></th>\n",
       "      <th>Name</th>\n",
       "      <th>Region</th>\n",
       "      <th>School_Name</th>\n",
       "      <th>Grade</th>\n",
       "      <th>Award</th>\n",
       "      <th>Score</th>\n",
       "    </tr>\n",
       "  </thead>\n",
       "  <tbody>\n",
       "    <tr>\n",
       "      <th>0</th>\n",
       "      <td>Синицын Максим Кириллович</td>\n",
       "      <td>Москва</td>\n",
       "      <td>Государственное бюджетное общеобразовательное ...</td>\n",
       "      <td>9</td>\n",
       "      <td>Победитель</td>\n",
       "      <td>92</td>\n",
       "    </tr>\n",
       "    <tr>\n",
       "      <th>1</th>\n",
       "      <td>Касимова Есения Марковна</td>\n",
       "      <td>Москва</td>\n",
       "      <td>учреждение высшего образования \"Национальный и...</td>\n",
       "      <td>9</td>\n",
       "      <td>Победитель</td>\n",
       "      <td>86</td>\n",
       "    </tr>\n",
       "    <tr>\n",
       "      <th>6</th>\n",
       "      <td>Крещик Владимир Иванович</td>\n",
       "      <td>Иркутская область</td>\n",
       "      <td>Муниципальное автономное общеобразовательное у...</td>\n",
       "      <td>9</td>\n",
       "      <td>Победитель</td>\n",
       "      <td>86</td>\n",
       "    </tr>\n",
       "    <tr>\n",
       "      <th>7</th>\n",
       "      <td>Лихачев Алексей Романович</td>\n",
       "      <td>Удмуртская\\nРеспублика</td>\n",
       "      <td>Государственное бюджетное общеобразовательное ...</td>\n",
       "      <td>9</td>\n",
       "      <td>Победитель</td>\n",
       "      <td>86</td>\n",
       "    </tr>\n",
       "    <tr>\n",
       "      <th>8</th>\n",
       "      <td>Латариа Мириан Лашаевич</td>\n",
       "      <td>Москва</td>\n",
       "      <td>Государственное бюджетное общеобразовательное ...</td>\n",
       "      <td>9</td>\n",
       "      <td>Победитель</td>\n",
       "      <td>84</td>\n",
       "    </tr>\n",
       "  </tbody>\n",
       "</table>\n",
       "</div>"
      ],
      "text/plain": [
       "                        Name                  Region  \\\n",
       "0  Синицын Максим Кириллович                  Москва   \n",
       "1   Касимова Есения Марковна                  Москва   \n",
       "6   Крещик Владимир Иванович       Иркутская область   \n",
       "7  Лихачев Алексей Романович  Удмуртская\\nРеспублика   \n",
       "8    Латариа Мириан Лашаевич                  Москва   \n",
       "\n",
       "                                         School_Name  Grade       Award Score  \n",
       "0  Государственное бюджетное общеобразовательное ...      9  Победитель    92  \n",
       "1  учреждение высшего образования \"Национальный и...      9  Победитель    86  \n",
       "6  Муниципальное автономное общеобразовательное у...      9  Победитель    86  \n",
       "7  Государственное бюджетное общеобразовательное ...      9  Победитель    86  \n",
       "8  Государственное бюджетное общеобразовательное ...      9  Победитель    84  "
      ]
     },
     "execution_count": 16,
     "metadata": {},
     "output_type": "execute_result"
    }
   ],
   "source": [
    "df_0.head()"
   ]
  },
  {
   "cell_type": "markdown",
   "metadata": {},
   "source": [
    "### Sheet 1"
   ]
  },
  {
   "cell_type": "code",
   "execution_count": 17,
   "metadata": {
    "ExecuteTime": {
     "end_time": "2021-06-25T11:09:18.839145Z",
     "start_time": "2021-06-25T11:09:18.735944Z"
    }
   },
   "outputs": [],
   "source": [
    "df_1 = pd.read_excel('output_Lena.xlsx',\n",
    "                   sheet_name = 1,\n",
    "                   index_col = None,\n",
    "                   #skiprows = [0,1,2,3,4],\n",
    "                   #usecols = [1,2,3,4,6],\n",
    "                   #names = ['Name', 'Region', 'School_Name'],\n",
    "                   skipfooter = 1\n",
    "                   )"
   ]
  },
  {
   "cell_type": "code",
   "execution_count": 18,
   "metadata": {
    "ExecuteTime": {
     "end_time": "2021-06-25T11:09:18.948570Z",
     "start_time": "2021-06-25T11:09:18.938483Z"
    }
   },
   "outputs": [],
   "source": [
    "df_1 = df_1.reset_index()"
   ]
  },
  {
   "cell_type": "code",
   "execution_count": 19,
   "metadata": {
    "ExecuteTime": {
     "end_time": "2021-06-25T11:09:19.134386Z",
     "start_time": "2021-06-25T11:09:19.124195Z"
    }
   },
   "outputs": [],
   "source": [
    "df_1 = df_1.drop(df_1.columns[[0]], axis=1) "
   ]
  },
  {
   "cell_type": "code",
   "execution_count": 20,
   "metadata": {
    "ExecuteTime": {
     "end_time": "2021-06-25T11:09:19.313903Z",
     "start_time": "2021-06-25T11:09:19.308570Z"
    }
   },
   "outputs": [],
   "source": [
    "df_1.columns = ['Name', 'Region', 'School_Name', 'Grade', 'Award']"
   ]
  },
  {
   "cell_type": "code",
   "execution_count": 21,
   "metadata": {
    "ExecuteTime": {
     "end_time": "2021-06-25T11:09:19.526307Z",
     "start_time": "2021-06-25T11:09:19.520024Z"
    }
   },
   "outputs": [],
   "source": [
    "df_1['Score'] = df_1['Award'].astype(str).str[0:2]\n",
    "df_1['Award'] = df_1['Award'].astype(str).str[3:]"
   ]
  },
  {
   "cell_type": "code",
   "execution_count": 22,
   "metadata": {
    "ExecuteTime": {
     "end_time": "2021-06-25T11:09:19.722842Z",
     "start_time": "2021-06-25T11:09:19.717346Z"
    }
   },
   "outputs": [],
   "source": [
    "wrong_region_name = df_1['Region'][3]"
   ]
  },
  {
   "cell_type": "code",
   "execution_count": 23,
   "metadata": {
    "ExecuteTime": {
     "end_time": "2021-06-25T11:09:19.920467Z",
     "start_time": "2021-06-25T11:09:19.913973Z"
    }
   },
   "outputs": [
    {
     "data": {
      "text/plain": [
       "'Тюменская область'"
      ]
     },
     "execution_count": 23,
     "metadata": {},
     "output_type": "execute_result"
    }
   ],
   "source": [
    "wrong_region_name[0:17]"
   ]
  },
  {
   "cell_type": "code",
   "execution_count": 24,
   "metadata": {
    "ExecuteTime": {
     "end_time": "2021-06-25T11:09:20.251844Z",
     "start_time": "2021-06-25T11:09:20.247267Z"
    }
   },
   "outputs": [],
   "source": [
    "df_1.at[3, 'Region'] = wrong_region_name[0:17]\n",
    "df_1.at[3, 'School_Name'] = wrong_region_name[18:]"
   ]
  },
  {
   "cell_type": "code",
   "execution_count": 64,
   "metadata": {
    "ExecuteTime": {
     "end_time": "2021-06-25T11:09:50.073353Z",
     "start_time": "2021-06-25T11:09:50.056128Z"
    }
   },
   "outputs": [
    {
     "data": {
      "text/html": [
       "<div>\n",
       "<style scoped>\n",
       "    .dataframe tbody tr th:only-of-type {\n",
       "        vertical-align: middle;\n",
       "    }\n",
       "\n",
       "    .dataframe tbody tr th {\n",
       "        vertical-align: top;\n",
       "    }\n",
       "\n",
       "    .dataframe thead th {\n",
       "        text-align: right;\n",
       "    }\n",
       "</style>\n",
       "<table border=\"1\" class=\"dataframe\">\n",
       "  <thead>\n",
       "    <tr style=\"text-align: right;\">\n",
       "      <th></th>\n",
       "      <th>Name</th>\n",
       "      <th>Region</th>\n",
       "      <th>School_Name</th>\n",
       "      <th>Grade</th>\n",
       "      <th>Award</th>\n",
       "      <th>Score</th>\n",
       "    </tr>\n",
       "  </thead>\n",
       "  <tbody>\n",
       "    <tr>\n",
       "      <th>0</th>\n",
       "      <td>Игнатьев Даниил Алексеевич</td>\n",
       "      <td>Московская\\nобласть</td>\n",
       "      <td>Автономная некоммерческая общеобразовательная ...</td>\n",
       "      <td>9</td>\n",
       "      <td>Призер</td>\n",
       "      <td>80</td>\n",
       "    </tr>\n",
       "    <tr>\n",
       "      <th>1</th>\n",
       "      <td>Борисевич Никита Владимирович</td>\n",
       "      <td>Москва</td>\n",
       "      <td>Государственное бюджетное общеобразовательное ...</td>\n",
       "      <td>9</td>\n",
       "      <td>Призер</td>\n",
       "      <td>79</td>\n",
       "    </tr>\n",
       "    <tr>\n",
       "      <th>2</th>\n",
       "      <td>Евстигнеев Георгий Дмитриевич</td>\n",
       "      <td>Москва</td>\n",
       "      <td>Государственное бюджетное общеобразовательное ...</td>\n",
       "      <td>9</td>\n",
       "      <td>Призер</td>\n",
       "      <td>79</td>\n",
       "    </tr>\n",
       "    <tr>\n",
       "      <th>3</th>\n",
       "      <td>Мингалев Тимофей Михайлович</td>\n",
       "      <td>Тюменская область</td>\n",
       "      <td>Государственное автономное общеобразовательное...</td>\n",
       "      <td>9</td>\n",
       "      <td>Призер</td>\n",
       "      <td>79</td>\n",
       "    </tr>\n",
       "    <tr>\n",
       "      <th>4</th>\n",
       "      <td>Туржова Инга Андреевна</td>\n",
       "      <td>Москва</td>\n",
       "      <td>Государственное бюджетное общеобразовательное ...</td>\n",
       "      <td>9</td>\n",
       "      <td>Призер</td>\n",
       "      <td>79</td>\n",
       "    </tr>\n",
       "  </tbody>\n",
       "</table>\n",
       "</div>"
      ],
      "text/plain": [
       "                            Name               Region  \\\n",
       "0     Игнатьев Даниил Алексеевич  Московская\\nобласть   \n",
       "1  Борисевич Никита Владимирович               Москва   \n",
       "2  Евстигнеев Георгий Дмитриевич               Москва   \n",
       "3    Мингалев Тимофей Михайлович    Тюменская область   \n",
       "4         Туржова Инга Андреевна               Москва   \n",
       "\n",
       "                                         School_Name  Grade   Award Score  \n",
       "0  Автономная некоммерческая общеобразовательная ...      9  Призер    80  \n",
       "1  Государственное бюджетное общеобразовательное ...      9  Призер    79  \n",
       "2  Государственное бюджетное общеобразовательное ...      9  Призер    79  \n",
       "3  Государственное автономное общеобразовательное...      9  Призер    79  \n",
       "4  Государственное бюджетное общеобразовательное ...      9  Призер    79  "
      ]
     },
     "execution_count": 64,
     "metadata": {},
     "output_type": "execute_result"
    }
   ],
   "source": [
    "df_1.head()"
   ]
  },
  {
   "cell_type": "markdown",
   "metadata": {},
   "source": [
    "### Sheet 2"
   ]
  },
  {
   "cell_type": "code",
   "execution_count": 26,
   "metadata": {
    "ExecuteTime": {
     "end_time": "2021-06-25T11:09:20.797000Z",
     "start_time": "2021-06-25T11:09:20.704756Z"
    }
   },
   "outputs": [],
   "source": [
    "df_2 = pd.read_excel('output_Lena.xlsx',\n",
    "                   sheet_name = 2,\n",
    "                   #index_col = None,\n",
    "                   #skiprows = [0,1,2,3,4],\n",
    "                   #usecols = [1,2,3,4,6],\n",
    "                   names = ['Name', 'Region', 'School_Name'],\n",
    "                   skipfooter = 1\n",
    "                   )"
   ]
  },
  {
   "cell_type": "code",
   "execution_count": 27,
   "metadata": {
    "ExecuteTime": {
     "end_time": "2021-06-25T11:09:20.938103Z",
     "start_time": "2021-06-25T11:09:20.930155Z"
    }
   },
   "outputs": [],
   "source": [
    "df_2 = df_2.reset_index()"
   ]
  },
  {
   "cell_type": "code",
   "execution_count": 28,
   "metadata": {
    "ExecuteTime": {
     "end_time": "2021-06-25T11:09:21.190022Z",
     "start_time": "2021-06-25T11:09:21.181708Z"
    }
   },
   "outputs": [],
   "source": [
    "df_2 = df_2.drop(df_2.columns[[0]], axis=1) "
   ]
  },
  {
   "cell_type": "code",
   "execution_count": null,
   "metadata": {},
   "outputs": [],
   "source": []
  },
  {
   "cell_type": "code",
   "execution_count": null,
   "metadata": {},
   "outputs": [],
   "source": []
  },
  {
   "cell_type": "code",
   "execution_count": 29,
   "metadata": {
    "ExecuteTime": {
     "end_time": "2021-06-25T11:09:21.838918Z",
     "start_time": "2021-06-25T11:09:21.834817Z"
    }
   },
   "outputs": [],
   "source": [
    "df_2.columns = ['Name', 'Region', 'School_Name', 'Grade', 'Award']"
   ]
  },
  {
   "cell_type": "code",
   "execution_count": 30,
   "metadata": {
    "ExecuteTime": {
     "end_time": "2021-06-25T11:09:22.036407Z",
     "start_time": "2021-06-25T11:09:22.029306Z"
    }
   },
   "outputs": [],
   "source": [
    "df_2.at[4, 'School_Name'] = df_2['School_Name'][4] +str(' ') +df_2['School_Name'][5] +str(' ') +df_2['School_Name'][6] +str(' ')  + df_2['School_Name'][7]"
   ]
  },
  {
   "cell_type": "code",
   "execution_count": 31,
   "metadata": {
    "ExecuteTime": {
     "end_time": "2021-06-25T11:09:22.242779Z",
     "start_time": "2021-06-25T11:09:22.235136Z"
    }
   },
   "outputs": [],
   "source": [
    "df_2.at[4, 'Region'] = df_2['Region'][4] +str(' ') +df_2['Region'][5] "
   ]
  },
  {
   "cell_type": "code",
   "execution_count": 32,
   "metadata": {
    "ExecuteTime": {
     "end_time": "2021-06-25T11:09:22.426567Z",
     "start_time": "2021-06-25T11:09:22.422231Z"
    }
   },
   "outputs": [],
   "source": [
    "df_2 = df_2.drop([5,6,7])"
   ]
  },
  {
   "cell_type": "code",
   "execution_count": 33,
   "metadata": {
    "ExecuteTime": {
     "end_time": "2021-06-25T11:09:22.607306Z",
     "start_time": "2021-06-25T11:09:22.598179Z"
    }
   },
   "outputs": [],
   "source": [
    "df_2['Score'] = df_2['Award'].astype(str).str[0:2]\n",
    "df_2['Award'] = df_2['Award'].astype(str).str[3:]"
   ]
  },
  {
   "cell_type": "code",
   "execution_count": 34,
   "metadata": {
    "ExecuteTime": {
     "end_time": "2021-06-25T11:09:22.774260Z",
     "start_time": "2021-06-25T11:09:22.767779Z"
    }
   },
   "outputs": [],
   "source": [
    "df_2['Award'] = df_2['Award'].fillna(0)"
   ]
  },
  {
   "cell_type": "code",
   "execution_count": 35,
   "metadata": {
    "ExecuteTime": {
     "end_time": "2021-06-25T11:09:22.988698Z",
     "start_time": "2021-06-25T11:09:22.980184Z"
    }
   },
   "outputs": [],
   "source": [
    "df_2 = df_2.replace(r'^\\s*$', 'Нет Приза', regex=True)"
   ]
  },
  {
   "cell_type": "code",
   "execution_count": 65,
   "metadata": {
    "ExecuteTime": {
     "end_time": "2021-06-25T11:09:54.872699Z",
     "start_time": "2021-06-25T11:09:54.853384Z"
    }
   },
   "outputs": [
    {
     "data": {
      "text/html": [
       "<div>\n",
       "<style scoped>\n",
       "    .dataframe tbody tr th:only-of-type {\n",
       "        vertical-align: middle;\n",
       "    }\n",
       "\n",
       "    .dataframe tbody tr th {\n",
       "        vertical-align: top;\n",
       "    }\n",
       "\n",
       "    .dataframe thead th {\n",
       "        text-align: right;\n",
       "    }\n",
       "</style>\n",
       "<table border=\"1\" class=\"dataframe\">\n",
       "  <thead>\n",
       "    <tr style=\"text-align: right;\">\n",
       "      <th></th>\n",
       "      <th>Name</th>\n",
       "      <th>Region</th>\n",
       "      <th>School_Name</th>\n",
       "      <th>Grade</th>\n",
       "      <th>Award</th>\n",
       "      <th>Score</th>\n",
       "    </tr>\n",
       "  </thead>\n",
       "  <tbody>\n",
       "    <tr>\n",
       "      <th>0</th>\n",
       "      <td>Бегун Владислав Вадимович</td>\n",
       "      <td>Москва</td>\n",
       "      <td>Общеобразовательная автономная некоммерческая ...</td>\n",
       "      <td>9.0</td>\n",
       "      <td>Призер</td>\n",
       "      <td>70</td>\n",
       "    </tr>\n",
       "    <tr>\n",
       "      <th>1</th>\n",
       "      <td>Магжанов Денис Ринатович</td>\n",
       "      <td>Москва</td>\n",
       "      <td>Государственное бюджетное общеобразовательное ...</td>\n",
       "      <td>9.0</td>\n",
       "      <td>Призер</td>\n",
       "      <td>69</td>\n",
       "    </tr>\n",
       "    <tr>\n",
       "      <th>2</th>\n",
       "      <td>Грехов Арсений Алексеевич</td>\n",
       "      <td>Москва</td>\n",
       "      <td>Общеобразовательная автономная некоммерческая ...</td>\n",
       "      <td>9.0</td>\n",
       "      <td>Призер</td>\n",
       "      <td>68</td>\n",
       "    </tr>\n",
       "    <tr>\n",
       "      <th>3</th>\n",
       "      <td>Подворный Иван Владимирович</td>\n",
       "      <td>Москва</td>\n",
       "      <td>Государственное бюджетное общеобразовательное ...</td>\n",
       "      <td>9.0</td>\n",
       "      <td>Призер</td>\n",
       "      <td>66</td>\n",
       "    </tr>\n",
       "    <tr>\n",
       "      <th>4</th>\n",
       "      <td>Лаврик Иван Александрович</td>\n",
       "      <td>Свердловская область</td>\n",
       "      <td>Специализированный учебно-научный центр федера...</td>\n",
       "      <td>9.0</td>\n",
       "      <td>Призер</td>\n",
       "      <td>65</td>\n",
       "    </tr>\n",
       "  </tbody>\n",
       "</table>\n",
       "</div>"
      ],
      "text/plain": [
       "                          Name                Region  \\\n",
       "0    Бегун Владислав Вадимович                Москва   \n",
       "1     Магжанов Денис Ринатович                Москва   \n",
       "2    Грехов Арсений Алексеевич                Москва   \n",
       "3  Подворный Иван Владимирович                Москва   \n",
       "4    Лаврик Иван Александрович  Свердловская область   \n",
       "\n",
       "                                         School_Name  Grade   Award Score  \n",
       "0  Общеобразовательная автономная некоммерческая ...    9.0  Призер    70  \n",
       "1  Государственное бюджетное общеобразовательное ...    9.0  Призер    69  \n",
       "2  Общеобразовательная автономная некоммерческая ...    9.0  Призер    68  \n",
       "3  Государственное бюджетное общеобразовательное ...    9.0  Призер    66  \n",
       "4  Специализированный учебно-научный центр федера...    9.0  Призер    65  "
      ]
     },
     "execution_count": 65,
     "metadata": {},
     "output_type": "execute_result"
    }
   ],
   "source": [
    "df_2.head()"
   ]
  },
  {
   "cell_type": "markdown",
   "metadata": {},
   "source": [
    "### Sheet 3"
   ]
  },
  {
   "cell_type": "code",
   "execution_count": 37,
   "metadata": {
    "ExecuteTime": {
     "end_time": "2021-06-25T11:09:23.623953Z",
     "start_time": "2021-06-25T11:09:23.533487Z"
    }
   },
   "outputs": [],
   "source": [
    "df_3 = pd.read_excel('output_Lena.xlsx',\n",
    "                   sheet_name = 3,\n",
    "                   #index_col = None,\n",
    "                   #skiprows = [0,1,2,3,4],\n",
    "                   #usecols = [1,2,3,4,6],\n",
    "                   names = ['Name', 'Region', 'School_Name'],\n",
    "                   skipfooter = 1\n",
    "                   )"
   ]
  },
  {
   "cell_type": "code",
   "execution_count": 38,
   "metadata": {
    "ExecuteTime": {
     "end_time": "2021-06-25T11:09:23.731315Z",
     "start_time": "2021-06-25T11:09:23.725028Z"
    }
   },
   "outputs": [],
   "source": [
    "df_3 = df_3.reset_index()"
   ]
  },
  {
   "cell_type": "code",
   "execution_count": 39,
   "metadata": {
    "ExecuteTime": {
     "end_time": "2021-06-25T11:09:23.918190Z",
     "start_time": "2021-06-25T11:09:23.912239Z"
    }
   },
   "outputs": [],
   "source": [
    "df_3 = df_3.drop(df_3.columns[[0]], axis=1) "
   ]
  },
  {
   "cell_type": "code",
   "execution_count": 40,
   "metadata": {
    "ExecuteTime": {
     "end_time": "2021-06-25T11:09:24.103853Z",
     "start_time": "2021-06-25T11:09:24.099196Z"
    }
   },
   "outputs": [],
   "source": [
    "df_3.columns = ['Name', 'Region', 'School_Name', 'Grade', 'Award']"
   ]
  },
  {
   "cell_type": "code",
   "execution_count": 41,
   "metadata": {
    "ExecuteTime": {
     "end_time": "2021-06-25T11:09:24.289431Z",
     "start_time": "2021-06-25T11:09:24.281652Z"
    }
   },
   "outputs": [],
   "source": [
    "df_3.at[7, 'Region'] = df_3['Name'][7].split()[-1]\n",
    "df_3.at[7, 'Name'] = df_3['Name'][7].split()[0] + str(' ') + df_3['Name'][7].split()[1] + str(' ') + df_3['Name'][7].split()[2]"
   ]
  },
  {
   "cell_type": "code",
   "execution_count": 42,
   "metadata": {
    "ExecuteTime": {
     "end_time": "2021-06-25T11:09:24.492445Z",
     "start_time": "2021-06-25T11:09:24.482527Z"
    }
   },
   "outputs": [
    {
     "data": {
      "text/plain": [
       "'Александрович'"
      ]
     },
     "execution_count": 42,
     "metadata": {},
     "output_type": "execute_result"
    }
   ],
   "source": [
    "df_3['Name'][9].split()[2]"
   ]
  },
  {
   "cell_type": "code",
   "execution_count": 43,
   "metadata": {
    "ExecuteTime": {
     "end_time": "2021-06-25T11:09:24.678164Z",
     "start_time": "2021-06-25T11:09:24.672413Z"
    }
   },
   "outputs": [],
   "source": [
    "\n",
    "df_3.at[9, 'Region'] = df_3['Name'][9].split()[-2] + str(' ') + df_3['Name'][9].split()[-1]\n",
    "df_3.at[9, 'Name'] = df_3['Name'][9].split()[0] + str(' ')  + df_3['Name'][9].split()[1] + str(' ') + df_3['Name'][9].split()[2]"
   ]
  },
  {
   "cell_type": "code",
   "execution_count": 44,
   "metadata": {
    "ExecuteTime": {
     "end_time": "2021-06-25T11:09:24.862635Z",
     "start_time": "2021-06-25T11:09:24.858030Z"
    }
   },
   "outputs": [],
   "source": [
    "df_3['Score'] = df_3['Award']\n",
    "df_3['Award'] = 'Нет Приза'"
   ]
  },
  {
   "cell_type": "code",
   "execution_count": 66,
   "metadata": {
    "ExecuteTime": {
     "end_time": "2021-06-25T11:09:59.411748Z",
     "start_time": "2021-06-25T11:09:59.395633Z"
    }
   },
   "outputs": [
    {
     "data": {
      "text/html": [
       "<div>\n",
       "<style scoped>\n",
       "    .dataframe tbody tr th:only-of-type {\n",
       "        vertical-align: middle;\n",
       "    }\n",
       "\n",
       "    .dataframe tbody tr th {\n",
       "        vertical-align: top;\n",
       "    }\n",
       "\n",
       "    .dataframe thead th {\n",
       "        text-align: right;\n",
       "    }\n",
       "</style>\n",
       "<table border=\"1\" class=\"dataframe\">\n",
       "  <thead>\n",
       "    <tr style=\"text-align: right;\">\n",
       "      <th></th>\n",
       "      <th>Name</th>\n",
       "      <th>Region</th>\n",
       "      <th>School_Name</th>\n",
       "      <th>Grade</th>\n",
       "      <th>Award</th>\n",
       "      <th>Score</th>\n",
       "    </tr>\n",
       "  </thead>\n",
       "  <tbody>\n",
       "    <tr>\n",
       "      <th>0</th>\n",
       "      <td>Николаев Андрей Владимирович</td>\n",
       "      <td>Кировская область</td>\n",
       "      <td>Кировское областное государственное общеобразо...</td>\n",
       "      <td>9</td>\n",
       "      <td>Нет Приза</td>\n",
       "      <td>59</td>\n",
       "    </tr>\n",
       "    <tr>\n",
       "      <th>1</th>\n",
       "      <td>Савинов Даниил Германович</td>\n",
       "      <td>Санкт-Петербург</td>\n",
       "      <td>Государственное бюджетное общеобразовательное ...</td>\n",
       "      <td>9</td>\n",
       "      <td>Нет Приза</td>\n",
       "      <td>59</td>\n",
       "    </tr>\n",
       "    <tr>\n",
       "      <th>2</th>\n",
       "      <td>Салихов Амир Рамилович</td>\n",
       "      <td>Республика\\nТатарстан</td>\n",
       "      <td>Муниципальное автономное общеобразовательное у...</td>\n",
       "      <td>9</td>\n",
       "      <td>Нет Приза</td>\n",
       "      <td>58</td>\n",
       "    </tr>\n",
       "    <tr>\n",
       "      <th>3</th>\n",
       "      <td>Вохминцев Иван Дмитриевич</td>\n",
       "      <td>Самарская область</td>\n",
       "      <td>Государственное бюджетное общеобразовательное ...</td>\n",
       "      <td>9</td>\n",
       "      <td>Нет Приза</td>\n",
       "      <td>56</td>\n",
       "    </tr>\n",
       "    <tr>\n",
       "      <th>4</th>\n",
       "      <td>Китаев Лев Игоревич</td>\n",
       "      <td>Москва</td>\n",
       "      <td>Общеобразовательная автономная некоммерческая ...</td>\n",
       "      <td>9</td>\n",
       "      <td>Нет Приза</td>\n",
       "      <td>56</td>\n",
       "    </tr>\n",
       "  </tbody>\n",
       "</table>\n",
       "</div>"
      ],
      "text/plain": [
       "                           Name                 Region  \\\n",
       "0  Николаев Андрей Владимирович      Кировская область   \n",
       "1     Савинов Даниил Германович        Санкт-Петербург   \n",
       "2        Салихов Амир Рамилович  Республика\\nТатарстан   \n",
       "3     Вохминцев Иван Дмитриевич      Самарская область   \n",
       "4           Китаев Лев Игоревич                 Москва   \n",
       "\n",
       "                                         School_Name  Grade      Award  Score  \n",
       "0  Кировское областное государственное общеобразо...      9  Нет Приза     59  \n",
       "1  Государственное бюджетное общеобразовательное ...      9  Нет Приза     59  \n",
       "2  Муниципальное автономное общеобразовательное у...      9  Нет Приза     58  \n",
       "3  Государственное бюджетное общеобразовательное ...      9  Нет Приза     56  \n",
       "4  Общеобразовательная автономная некоммерческая ...      9  Нет Приза     56  "
      ]
     },
     "execution_count": 66,
     "metadata": {},
     "output_type": "execute_result"
    }
   ],
   "source": [
    "df_3.head()"
   ]
  },
  {
   "cell_type": "code",
   "execution_count": null,
   "metadata": {},
   "outputs": [],
   "source": []
  },
  {
   "cell_type": "code",
   "execution_count": null,
   "metadata": {},
   "outputs": [],
   "source": []
  },
  {
   "cell_type": "markdown",
   "metadata": {},
   "source": [
    "### Merge results"
   ]
  },
  {
   "cell_type": "code",
   "execution_count": 46,
   "metadata": {
    "ExecuteTime": {
     "end_time": "2021-06-25T11:09:25.837454Z",
     "start_time": "2021-06-25T11:09:25.825654Z"
    }
   },
   "outputs": [],
   "source": [
    "all_partial_winners = pd.concat([df_0, df_1, df_2, df_3], axis=0, join=\"inner\", ignore_index = True)"
   ]
  },
  {
   "cell_type": "code",
   "execution_count": 47,
   "metadata": {
    "ExecuteTime": {
     "end_time": "2021-06-25T11:09:26.028323Z",
     "start_time": "2021-06-25T11:09:26.022539Z"
    }
   },
   "outputs": [
    {
     "data": {
      "text/plain": [
       "{'Архангельская\\nобласть',\n",
       " 'Иркутская область',\n",
       " 'Кировская область',\n",
       " 'Москва',\n",
       " 'Московская\\nобласть',\n",
       " 'Пермский край',\n",
       " 'Республика\\nТатарстан',\n",
       " 'Самарская область',\n",
       " 'Санкт-Петербург',\n",
       " 'Свердловская область',\n",
       " 'Тюменская область',\n",
       " 'Удмуртская\\nРеспублика',\n",
       " 'Удмуртская Республика'}"
      ]
     },
     "execution_count": 47,
     "metadata": {},
     "output_type": "execute_result"
    }
   ],
   "source": [
    "set(list(all_partial_winners['Region']))"
   ]
  },
  {
   "cell_type": "code",
   "execution_count": 48,
   "metadata": {
    "ExecuteTime": {
     "end_time": "2021-06-25T11:09:26.247285Z",
     "start_time": "2021-06-25T11:09:26.227972Z"
    }
   },
   "outputs": [],
   "source": [
    "all_partial_winners = all_partial_winners.replace(r'Московская\\nобласть', 'Московская Область', regex=True)\n",
    "all_partial_winners = all_partial_winners.replace(r'Удмуртская\\nРеспублика', 'Удмуртская Республика', regex=True)\n",
    "all_partial_winners = all_partial_winners.replace(r'Архангельская\\nобласть', 'Архангельская область', regex=True)\n",
    "all_partial_winners = all_partial_winners.replace(r'Республика\\nТатарстан', 'Республика Татарстан', regex=True)"
   ]
  },
  {
   "cell_type": "code",
   "execution_count": null,
   "metadata": {
    "ExecuteTime": {
     "end_time": "2021-06-25T11:10:11.936459Z",
     "start_time": "2021-06-25T11:10:11.916193Z"
    }
   },
   "outputs": [],
   "source": []
  },
  {
   "cell_type": "code",
   "execution_count": 69,
   "metadata": {
    "ExecuteTime": {
     "end_time": "2021-06-25T11:10:15.564462Z",
     "start_time": "2021-06-25T11:10:15.552129Z"
    }
   },
   "outputs": [],
   "source": [
    "all_partial_winners = all_partial_winners.astype({\"Grade\": int})\n",
    "all_partial_winners = all_partial_winners.astype({\"Score\": int})"
   ]
  },
  {
   "cell_type": "code",
   "execution_count": 70,
   "metadata": {
    "ExecuteTime": {
     "end_time": "2021-06-25T11:10:18.220217Z",
     "start_time": "2021-06-25T11:10:18.200360Z"
    }
   },
   "outputs": [
    {
     "data": {
      "text/html": [
       "<div>\n",
       "<style scoped>\n",
       "    .dataframe tbody tr th:only-of-type {\n",
       "        vertical-align: middle;\n",
       "    }\n",
       "\n",
       "    .dataframe tbody tr th {\n",
       "        vertical-align: top;\n",
       "    }\n",
       "\n",
       "    .dataframe thead th {\n",
       "        text-align: right;\n",
       "    }\n",
       "</style>\n",
       "<table border=\"1\" class=\"dataframe\">\n",
       "  <thead>\n",
       "    <tr style=\"text-align: right;\">\n",
       "      <th></th>\n",
       "      <th>Name</th>\n",
       "      <th>Region</th>\n",
       "      <th>School_Name</th>\n",
       "      <th>Grade</th>\n",
       "      <th>Award</th>\n",
       "      <th>Score</th>\n",
       "      <th>First Name</th>\n",
       "      <th>Year</th>\n",
       "      <th>Gender</th>\n",
       "      <th>Moscow Region</th>\n",
       "    </tr>\n",
       "  </thead>\n",
       "  <tbody>\n",
       "    <tr>\n",
       "      <th>0</th>\n",
       "      <td>Синицын Максим Кириллович</td>\n",
       "      <td>Москва</td>\n",
       "      <td>Государственное бюджетное общеобразовательное ...</td>\n",
       "      <td>9</td>\n",
       "      <td>Победитель</td>\n",
       "      <td>92</td>\n",
       "      <td>Максим</td>\n",
       "      <td>2020/2021</td>\n",
       "      <td>Male</td>\n",
       "      <td>Moscow</td>\n",
       "    </tr>\n",
       "    <tr>\n",
       "      <th>1</th>\n",
       "      <td>Касимова Есения Марковна</td>\n",
       "      <td>Москва</td>\n",
       "      <td>учреждение высшего образования \"Национальный и...</td>\n",
       "      <td>9</td>\n",
       "      <td>Победитель</td>\n",
       "      <td>86</td>\n",
       "      <td>Есения</td>\n",
       "      <td>2020/2021</td>\n",
       "      <td>Female</td>\n",
       "      <td>Moscow</td>\n",
       "    </tr>\n",
       "    <tr>\n",
       "      <th>2</th>\n",
       "      <td>Крещик Владимир Иванович</td>\n",
       "      <td>Иркутская область</td>\n",
       "      <td>Муниципальное автономное общеобразовательное у...</td>\n",
       "      <td>9</td>\n",
       "      <td>Победитель</td>\n",
       "      <td>86</td>\n",
       "      <td>Владимир</td>\n",
       "      <td>2020/2021</td>\n",
       "      <td>Male</td>\n",
       "      <td>Rural</td>\n",
       "    </tr>\n",
       "    <tr>\n",
       "      <th>3</th>\n",
       "      <td>Лихачев Алексей Романович</td>\n",
       "      <td>Удмуртская Республика</td>\n",
       "      <td>Государственное бюджетное общеобразовательное ...</td>\n",
       "      <td>9</td>\n",
       "      <td>Победитель</td>\n",
       "      <td>86</td>\n",
       "      <td>Алексей</td>\n",
       "      <td>2020/2021</td>\n",
       "      <td>Male</td>\n",
       "      <td>Rural</td>\n",
       "    </tr>\n",
       "    <tr>\n",
       "      <th>4</th>\n",
       "      <td>Латариа Мириан Лашаевич</td>\n",
       "      <td>Москва</td>\n",
       "      <td>Государственное бюджетное общеобразовательное ...</td>\n",
       "      <td>9</td>\n",
       "      <td>Победитель</td>\n",
       "      <td>84</td>\n",
       "      <td>Мириан</td>\n",
       "      <td>2020/2021</td>\n",
       "      <td>Female</td>\n",
       "      <td>Moscow</td>\n",
       "    </tr>\n",
       "  </tbody>\n",
       "</table>\n",
       "</div>"
      ],
      "text/plain": [
       "                        Name                 Region  \\\n",
       "0  Синицын Максим Кириллович                 Москва   \n",
       "1   Касимова Есения Марковна                 Москва   \n",
       "2   Крещик Владимир Иванович      Иркутская область   \n",
       "3  Лихачев Алексей Романович  Удмуртская Республика   \n",
       "4    Латариа Мириан Лашаевич                 Москва   \n",
       "\n",
       "                                         School_Name  Grade       Award  \\\n",
       "0  Государственное бюджетное общеобразовательное ...      9  Победитель   \n",
       "1  учреждение высшего образования \"Национальный и...      9  Победитель   \n",
       "2  Муниципальное автономное общеобразовательное у...      9  Победитель   \n",
       "3  Государственное бюджетное общеобразовательное ...      9  Победитель   \n",
       "4  Государственное бюджетное общеобразовательное ...      9  Победитель   \n",
       "\n",
       "   Score First Name       Year  Gender Moscow Region  \n",
       "0     92     Максим  2020/2021    Male        Moscow  \n",
       "1     86     Есения  2020/2021  Female        Moscow  \n",
       "2     86   Владимир  2020/2021    Male         Rural  \n",
       "3     86    Алексей  2020/2021    Male         Rural  \n",
       "4     84     Мириан  2020/2021  Female        Moscow  "
      ]
     },
     "execution_count": 70,
     "metadata": {},
     "output_type": "execute_result"
    }
   ],
   "source": [
    "all_partial_winners.head()"
   ]
  },
  {
   "cell_type": "markdown",
   "metadata": {},
   "source": [
    "### Extract First Names"
   ]
  },
  {
   "cell_type": "code",
   "execution_count": 52,
   "metadata": {
    "ExecuteTime": {
     "end_time": "2021-06-25T11:09:27.272615Z",
     "start_time": "2021-06-25T11:09:27.267097Z"
    }
   },
   "outputs": [],
   "source": [
    "all_partial_winners['First Name'] = all_partial_winners['Name'].astype(str).str.split().str[1]"
   ]
  },
  {
   "cell_type": "code",
   "execution_count": 53,
   "metadata": {
    "ExecuteTime": {
     "end_time": "2021-06-25T11:09:27.465934Z",
     "start_time": "2021-06-25T11:09:27.462119Z"
    }
   },
   "outputs": [],
   "source": [
    "all_partial_winners['Year'] = '2020/2021'"
   ]
  },
  {
   "cell_type": "code",
   "execution_count": null,
   "metadata": {
    "ExecuteTime": {
     "end_time": "2021-06-25T10:02:59.549206Z",
     "start_time": "2021-06-25T10:02:59.543866Z"
    }
   },
   "outputs": [],
   "source": []
  },
  {
   "cell_type": "code",
   "execution_count": 54,
   "metadata": {
    "ExecuteTime": {
     "end_time": "2021-06-25T11:09:27.844363Z",
     "start_time": "2021-06-25T11:09:27.840174Z"
    }
   },
   "outputs": [],
   "source": [
    "all_partial_winners['Gender'] = all_partial_winners['First Name']"
   ]
  },
  {
   "cell_type": "code",
   "execution_count": null,
   "metadata": {
    "ExecuteTime": {
     "end_time": "2021-06-25T10:04:08.464201Z",
     "start_time": "2021-06-25T10:04:08.388075Z"
    }
   },
   "outputs": [],
   "source": []
  },
  {
   "cell_type": "code",
   "execution_count": 55,
   "metadata": {
    "ExecuteTime": {
     "end_time": "2021-06-25T11:09:28.212204Z",
     "start_time": "2021-06-25T11:09:28.204501Z"
    }
   },
   "outputs": [
    {
     "data": {
      "text/plain": [
       "{'Александр',\n",
       " 'Алексей',\n",
       " 'Алена',\n",
       " 'Алина',\n",
       " 'Амир',\n",
       " 'Анастасия',\n",
       " 'Анатолий',\n",
       " 'Андрей',\n",
       " 'Антон',\n",
       " 'Арина',\n",
       " 'Арсений',\n",
       " 'Владимир',\n",
       " 'Владислав',\n",
       " 'Всеволод',\n",
       " 'Георгий',\n",
       " 'Гузель',\n",
       " 'Даниил',\n",
       " 'Данил',\n",
       " 'Денис',\n",
       " 'Егор',\n",
       " 'Есения',\n",
       " 'Иван',\n",
       " 'Илья',\n",
       " 'Инга',\n",
       " 'Камиля',\n",
       " 'Кирилл',\n",
       " 'Ксения',\n",
       " 'Лев',\n",
       " 'Леонид',\n",
       " 'Максим',\n",
       " 'Мария',\n",
       " 'Мириан',\n",
       " 'Михаил',\n",
       " 'Никита',\n",
       " 'Ольга',\n",
       " 'Роман',\n",
       " 'Тимофей',\n",
       " 'Ульяна'}"
      ]
     },
     "execution_count": 55,
     "metadata": {},
     "output_type": "execute_result"
    }
   ],
   "source": [
    "set(list(all_partial_winners['Gender']))"
   ]
  },
  {
   "cell_type": "code",
   "execution_count": 56,
   "metadata": {
    "ExecuteTime": {
     "end_time": "2021-06-25T11:09:28.395246Z",
     "start_time": "2021-06-25T11:09:28.388358Z"
    }
   },
   "outputs": [],
   "source": [
    "Gender_Names = {'Александр': 'Male',\n",
    " 'Алексей': 'Male',\n",
    " 'Алена': 'Female',\n",
    " 'Алина': 'Female',\n",
    " 'Амир': 'Male',\n",
    " 'Анастасия': 'Female',\n",
    " 'Анатолий': 'Male',\n",
    " 'Андрей': 'Male',\n",
    " 'Антон': 'Male',\n",
    " 'Арина': 'Female',\n",
    " 'Арсений': 'Male',\n",
    " 'Владимир': 'Male',\n",
    " 'Владислав': 'Male',\n",
    " 'Всеволод': 'Male',\n",
    " 'Георгий': 'Male',\n",
    "'Гузель': 'Female',\n",
    " 'Даниил': 'Male',\n",
    " 'Данил': 'Male',\n",
    " 'Денис': 'Male',\n",
    " 'Егор': 'Male',\n",
    " 'Есения': 'Female',\n",
    " 'Иван': 'Male',\n",
    " 'Илья': 'Male',\n",
    " 'Инга': 'Female',\n",
    " 'Кирилл': 'Male',\n",
    " 'Камиля': 'Female',\n",
    " 'Ксения': 'Female',\n",
    "  'Лев': 'Male',\n",
    " 'Леонид': 'Male',\n",
    " 'Максим': 'Male',\n",
    " 'Мария': 'Female',\n",
    " 'Мириан': 'Female',\n",
    " 'Михаил': 'Male',\n",
    " 'Никита': 'Male',\n",
    " 'Ольга': 'Female',\n",
    " 'Роман': 'Male',\n",
    " 'Тимофей': 'Male',\n",
    " 'Ульяна': 'Female'\n",
    "               }"
   ]
  },
  {
   "cell_type": "code",
   "execution_count": 57,
   "metadata": {
    "ExecuteTime": {
     "end_time": "2021-06-25T11:09:28.579060Z",
     "start_time": "2021-06-25T11:09:28.555514Z"
    }
   },
   "outputs": [],
   "source": [
    "all_partial_winners = all_partial_winners.replace({'Gender': Gender_Names})"
   ]
  },
  {
   "cell_type": "code",
   "execution_count": 71,
   "metadata": {
    "ExecuteTime": {
     "end_time": "2021-06-25T11:10:23.606190Z",
     "start_time": "2021-06-25T11:10:23.580548Z"
    }
   },
   "outputs": [
    {
     "data": {
      "text/html": [
       "<div>\n",
       "<style scoped>\n",
       "    .dataframe tbody tr th:only-of-type {\n",
       "        vertical-align: middle;\n",
       "    }\n",
       "\n",
       "    .dataframe tbody tr th {\n",
       "        vertical-align: top;\n",
       "    }\n",
       "\n",
       "    .dataframe thead th {\n",
       "        text-align: right;\n",
       "    }\n",
       "</style>\n",
       "<table border=\"1\" class=\"dataframe\">\n",
       "  <thead>\n",
       "    <tr style=\"text-align: right;\">\n",
       "      <th></th>\n",
       "      <th>Name</th>\n",
       "      <th>Region</th>\n",
       "      <th>School_Name</th>\n",
       "      <th>Grade</th>\n",
       "      <th>Award</th>\n",
       "      <th>Score</th>\n",
       "      <th>First Name</th>\n",
       "      <th>Year</th>\n",
       "      <th>Gender</th>\n",
       "      <th>Moscow Region</th>\n",
       "    </tr>\n",
       "  </thead>\n",
       "  <tbody>\n",
       "    <tr>\n",
       "      <th>0</th>\n",
       "      <td>Синицын Максим Кириллович</td>\n",
       "      <td>Москва</td>\n",
       "      <td>Государственное бюджетное общеобразовательное ...</td>\n",
       "      <td>9</td>\n",
       "      <td>Победитель</td>\n",
       "      <td>92</td>\n",
       "      <td>Максим</td>\n",
       "      <td>2020/2021</td>\n",
       "      <td>Male</td>\n",
       "      <td>Moscow</td>\n",
       "    </tr>\n",
       "    <tr>\n",
       "      <th>1</th>\n",
       "      <td>Касимова Есения Марковна</td>\n",
       "      <td>Москва</td>\n",
       "      <td>учреждение высшего образования \"Национальный и...</td>\n",
       "      <td>9</td>\n",
       "      <td>Победитель</td>\n",
       "      <td>86</td>\n",
       "      <td>Есения</td>\n",
       "      <td>2020/2021</td>\n",
       "      <td>Female</td>\n",
       "      <td>Moscow</td>\n",
       "    </tr>\n",
       "    <tr>\n",
       "      <th>2</th>\n",
       "      <td>Крещик Владимир Иванович</td>\n",
       "      <td>Иркутская область</td>\n",
       "      <td>Муниципальное автономное общеобразовательное у...</td>\n",
       "      <td>9</td>\n",
       "      <td>Победитель</td>\n",
       "      <td>86</td>\n",
       "      <td>Владимир</td>\n",
       "      <td>2020/2021</td>\n",
       "      <td>Male</td>\n",
       "      <td>Rural</td>\n",
       "    </tr>\n",
       "    <tr>\n",
       "      <th>3</th>\n",
       "      <td>Лихачев Алексей Романович</td>\n",
       "      <td>Удмуртская Республика</td>\n",
       "      <td>Государственное бюджетное общеобразовательное ...</td>\n",
       "      <td>9</td>\n",
       "      <td>Победитель</td>\n",
       "      <td>86</td>\n",
       "      <td>Алексей</td>\n",
       "      <td>2020/2021</td>\n",
       "      <td>Male</td>\n",
       "      <td>Rural</td>\n",
       "    </tr>\n",
       "    <tr>\n",
       "      <th>4</th>\n",
       "      <td>Латариа Мириан Лашаевич</td>\n",
       "      <td>Москва</td>\n",
       "      <td>Государственное бюджетное общеобразовательное ...</td>\n",
       "      <td>9</td>\n",
       "      <td>Победитель</td>\n",
       "      <td>84</td>\n",
       "      <td>Мириан</td>\n",
       "      <td>2020/2021</td>\n",
       "      <td>Female</td>\n",
       "      <td>Moscow</td>\n",
       "    </tr>\n",
       "  </tbody>\n",
       "</table>\n",
       "</div>"
      ],
      "text/plain": [
       "                        Name                 Region  \\\n",
       "0  Синицын Максим Кириллович                 Москва   \n",
       "1   Касимова Есения Марковна                 Москва   \n",
       "2   Крещик Владимир Иванович      Иркутская область   \n",
       "3  Лихачев Алексей Романович  Удмуртская Республика   \n",
       "4    Латариа Мириан Лашаевич                 Москва   \n",
       "\n",
       "                                         School_Name  Grade       Award  \\\n",
       "0  Государственное бюджетное общеобразовательное ...      9  Победитель   \n",
       "1  учреждение высшего образования \"Национальный и...      9  Победитель   \n",
       "2  Муниципальное автономное общеобразовательное у...      9  Победитель   \n",
       "3  Государственное бюджетное общеобразовательное ...      9  Победитель   \n",
       "4  Государственное бюджетное общеобразовательное ...      9  Победитель   \n",
       "\n",
       "   Score First Name       Year  Gender Moscow Region  \n",
       "0     92     Максим  2020/2021    Male        Moscow  \n",
       "1     86     Есения  2020/2021  Female        Moscow  \n",
       "2     86   Владимир  2020/2021    Male         Rural  \n",
       "3     86    Алексей  2020/2021    Male         Rural  \n",
       "4     84     Мириан  2020/2021  Female        Moscow  "
      ]
     },
     "execution_count": 71,
     "metadata": {},
     "output_type": "execute_result"
    }
   ],
   "source": [
    "all_partial_winners.head()"
   ]
  },
  {
   "cell_type": "code",
   "execution_count": 59,
   "metadata": {
    "ExecuteTime": {
     "end_time": "2021-06-25T11:09:28.942611Z",
     "start_time": "2021-06-25T11:09:28.936358Z"
    }
   },
   "outputs": [
    {
     "data": {
      "text/plain": [
       "{'Архангельская область',\n",
       " 'Иркутская область',\n",
       " 'Кировская область',\n",
       " 'Москва',\n",
       " 'Московская Область',\n",
       " 'Пермский край',\n",
       " 'Республика Татарстан',\n",
       " 'Самарская область',\n",
       " 'Санкт-Петербург',\n",
       " 'Свердловская область',\n",
       " 'Тюменская область',\n",
       " 'Удмуртская Республика'}"
      ]
     },
     "execution_count": 59,
     "metadata": {},
     "output_type": "execute_result"
    }
   ],
   "source": [
    "set(list(all_partial_winners['Region']))"
   ]
  },
  {
   "cell_type": "code",
   "execution_count": 60,
   "metadata": {
    "ExecuteTime": {
     "end_time": "2021-06-25T11:09:29.125856Z",
     "start_time": "2021-06-25T11:09:29.118325Z"
    }
   },
   "outputs": [],
   "source": [
    "Moscow_Region_dics = {\n",
    "    'Архангельская область': 'Rural',\n",
    "    'Иркутская область': 'Rural',\n",
    " 'Кировская область': 'Rural',\n",
    " 'Москва': 'Moscow',\n",
    " 'Московская Область': 'Moscow',\n",
    " 'Пермский край': 'Rural',\n",
    "    'Республика Татарстан': 'Rural',\n",
    "   'Самарская область': 'Rural',\n",
    " 'Санкт-Петербург': 'Rural',\n",
    " 'Свердловская область': 'Rural',\n",
    " 'Тюменская область': 'Rural',\n",
    " 'Удмуртская Республика': 'Rural'}"
   ]
  },
  {
   "cell_type": "code",
   "execution_count": 61,
   "metadata": {
    "ExecuteTime": {
     "end_time": "2021-06-25T11:09:29.324412Z",
     "start_time": "2021-06-25T11:09:29.317490Z"
    }
   },
   "outputs": [],
   "source": [
    "all_partial_winners['Moscow Region'] = all_partial_winners['Region']"
   ]
  },
  {
   "cell_type": "code",
   "execution_count": 62,
   "metadata": {
    "ExecuteTime": {
     "end_time": "2021-06-25T11:09:29.527545Z",
     "start_time": "2021-06-25T11:09:29.512675Z"
    }
   },
   "outputs": [],
   "source": [
    "all_partial_winners = all_partial_winners.replace({'Moscow Region': Moscow_Region_dics})"
   ]
  },
  {
   "cell_type": "markdown",
   "metadata": {},
   "source": [
    "# Plots"
   ]
  },
  {
   "cell_type": "code",
   "execution_count": 63,
   "metadata": {
    "ExecuteTime": {
     "end_time": "2021-06-25T11:09:30.167391Z",
     "start_time": "2021-06-25T11:09:29.897887Z"
    }
   },
   "outputs": [
    {
     "data": {
      "image/png": "[encoded data removed]",
      "text/plain": [
       "<Figure size 432x288 with 1 Axes>"
      ]
     },
     "metadata": {
      "needs_background": "light"
     },
     "output_type": "display_data"
    }
   ],
   "source": [
    "ax = sns.boxplot(x=\"Gender\", y=\"Score\", hue=\"Moscow Region\",\n",
    "                 data=all_partial_winners, palette=\"Set3\").set_title(\"2020/21 Scores in National Economics Olympiad\")"
   ]
  },
  {
   "cell_type": "code",
   "execution_count": 87,
   "metadata": {
    "ExecuteTime": {
     "end_time": "2021-06-25T11:31:11.227549Z",
     "start_time": "2021-06-25T11:31:10.454747Z"
    }
   },
   "outputs": [
    {
     "data": {
      "image/png": "[encoded data removed]",
      "text/plain": [
       "<Figure size 1440x720 with 1 Axes>"
      ]
     },
     "metadata": {
      "needs_background": "light"
     },
     "output_type": "display_data"
    }
   ],
   "source": [
    "ax = plt.figure(figsize = (20,10))\n",
    "sns.set(font_scale = 2)\n",
    "ax = sns.boxplot(x=\"Region\", \n",
    "                 y=\"Score\",\n",
    "                 hue=\"Gender\",\n",
    "                 data=all_partial_winners, \n",
    "                 #rotation=90, \n",
    "                 palette=\"Set3\").set_title(\"2020/21 Scores in National Economics Olympiad\")\n",
    "\n",
    "plt.xticks(rotation=70)\n",
    "plt.tight_layout()\n"
   ]
  },
  {
   "cell_type": "code",
   "execution_count": null,
   "metadata": {},
   "outputs": [],
   "source": []
  }
 ],
 "metadata": {
  "kernelspec": {
   "display_name": "Python 3",
   "language": "python",
   "name": "python3"
  },
  "language_info": {
   "codemirror_mode": {
    "name": "ipython",
    "version": 3
   },
   "file_extension": ".py",
   "mimetype": "text/x-python",
   "name": "python",
   "nbconvert_exporter": "python",
   "pygments_lexer": "ipython3",
   "version": "3.6.12"
  },
  "toc": {
   "base_numbering": 1,
   "nav_menu": {},
   "number_sections": true,
   "sideBar": true,
   "skip_h1_title": false,
   "title_cell": "Table of Contents",
   "title_sidebar": "Contents",
   "toc_cell": false,
   "toc_position": {},
   "toc_section_display": true,
   "toc_window_display": true
  }
 },
 "nbformat": 4,
 "nbformat_minor": 4
}
